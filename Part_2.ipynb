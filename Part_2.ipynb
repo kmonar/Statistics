{
 "cells": [
  {
   "cell_type": "markdown",
   "metadata": {},
   "source": [
    "# Introducción\n",
    "\n",
    "En esta práctica vamos a repasar diferentes tests estadísticos. Para ello nos ayudamos de los datos publicados por BCSC:\n",
    "*NCI-funded Breast Cancer Surveillance Consortium (P01 CA154292 and HHSN261201100031C). Downloaded mm/dd/yyyy from the Breast Cancer Surveillance Consortium Web site - http://www.bcsc-research.org/data/index.html.*\n",
    "\n",
    "Concretamente a través de este enlace:\n",
    "http://www.bcsc-research.org/data/rf/app2/DownloadRequest.aspx\n",
    "\n",
    "\n",
    "El fichero *BCSC_risk_factors_summarized.csv* descargado lo teneis en la carpeta *data*.\n",
    "\n",
    "Ese fichero es un CSV, la descripción de cada columna se puede ver en la siguiente tabla:"
   ]
  },
  {
   "cell_type": "markdown",
   "metadata": {},
   "source": [
    "\n",
    "| Nombre de variable | Descripción | Código | \n",
    "|-|-|-|\n",
    "| year | Año de la observación | Numérico, 2000-2009 |\n",
    "| year_group_5_years| Edad (años) en grupos de 5 años |  1 = Edad 18-29;  2 = Edad 30-34; 3 = Edad 35-39; 4 = Edad 40-44; 5 = Edad 45-49; 6 = Edad 50-54; 7 = Edad 55-59; 8 = Edad 60-64; 9 = Edad 65-69; 10 = Edad 70-74; 11 = Edad 75-79; 12 = Edad 80-84; 13 = Edad ≥85 |\n",
    "| race_eth | Grupo étnico | 1 = Non-Hispanic white; 2 = Non-Hispanic black; 3 = Asian/Pacific Islander; 4 = Native American; 5 = Hispanic; 6 = Other/mixed; 9 = Desconocido |\n",
    "| first_degree_hx | Historial de cancer de un familiar de primer grado | 0 = No; 1 = Sí; 9 = Desconocido |\n",
    "| Edad_menarche | Edad (años) at menarche |0 = Edad ≥14; 1 = Edad 12-13; 2 = Edad <12; 9 = Desconocido\n",
    "| Edad_first_birth | Edad (años) at first birth | 0 = Edad < 20; 1 = Edad 20-24; 2 = Edad 25-29; 3 = Edad ≥30; 4 = Nulliparous; 9 = Desconocido |\n",
    "| BIRADS_breast_density | BI-RADS densidad del cancer de pecho| 1 = Almost entirely fat; 2 =Scattered fibroglandular densities; 3 = Heterogeneously dense; 4 = Extremely dense; 9 = Desconocido |\n",
    "| current_hrt | Uso de terapia de hormonas de reemplazo | 0 = No; 1 = Sí; 9 = Desconocido |\n",
    "| menopaus | Menopausal status | 1 = Pre- or peri-menopausal; 2 = Post-menopausal; 3 = Surgical menopause; 9 = Desconocido |\n",
    "| bmi_group |  Body mass index | 1 = 10-24.99; 2 = 25-29.99; 3 = 30-34.99; 4 = 35 or more; 9 = Desconocido |\n",
    "| biophx | Biopsia previa o aspiración | 0 = No; 1 = Sí; 9 = Desconocido |\n",
    "| breast_cancer_history | Cancer diagnosticado con anterioridad | 0 = No; 1 = Sí; 9 = Desconocido |\n",
    "| count | Número de ocurrencias de estas covariables | Numérico|\n",
    "\n",
    "\n"
   ]
  },
  {
   "cell_type": "markdown",
   "metadata": {},
   "source": [
    "Leemos los datos del csv y los adaptamos. Pasos a seguir:\n",
    "1. Replicamos las filas indicadas por la columna *count*\n",
    "2. Los datos son muy grandes, para agilizar la práctica nos quedamos con 5000 muestras elegidas con muestreo aleatorio simple. El resto se puede descartar.\n",
    "3. Se adapta el resto"
   ]
  },
  {
   "cell_type": "code",
   "execution_count": 1,
   "metadata": {},
   "outputs": [
    {
     "name": "stdout",
     "output_type": "stream",
     "text": [
      "[1] \"El data frame tiene  6318638 filas.\"\n"
     ]
    }
   ],
   "source": [
    "bCancer <- read.csv(\"./datos/BCSC_risk_factors_summarized.csv\", sep = \",\")\n",
    "bCancer <- bCancer[rep(row.names(bCancer), bCancer$count), 1:ncol(bCancer)-1]\n",
    "print(paste(\"El data frame tiene \",nrow(bCancer),\"filas.\"))"
   ]
  },
  {
   "cell_type": "code",
   "execution_count": 3,
   "metadata": {},
   "outputs": [
    {
     "data": {
      "text/html": [
       "<table>\n",
       "<thead><tr><th></th><th scope=col>year</th><th scope=col>age_group_5_years</th><th scope=col>race_eth</th><th scope=col>first_degree_hx</th><th scope=col>age_menarche</th><th scope=col>age_first_birth</th><th scope=col>BIRADS_breast_density</th><th scope=col>current_hrt</th><th scope=col>menopaus</th><th scope=col>bmi_group</th><th scope=col>biophx</th><th scope=col>breast_cancer_history</th></tr></thead>\n",
       "<tbody>\n",
       "\t<tr><th scope=row>1</th><td>2000</td><td>1   </td><td>1   </td><td>0   </td><td>0   </td><td>0   </td><td>1   </td><td>0   </td><td>1   </td><td>3   </td><td>0   </td><td>0   </td></tr>\n",
       "\t<tr><th scope=row>2</th><td>2000</td><td>1   </td><td>1   </td><td>0   </td><td>0   </td><td>1   </td><td>3   </td><td>0   </td><td>1   </td><td>2   </td><td>0   </td><td>0   </td></tr>\n",
       "\t<tr><th scope=row>3</th><td>2000</td><td>1   </td><td>1   </td><td>0   </td><td>0   </td><td>1   </td><td>4   </td><td>0   </td><td>1   </td><td>1   </td><td>0   </td><td>0   </td></tr>\n",
       "\t<tr><th scope=row>3.1</th><td>2000</td><td>1   </td><td>1   </td><td>0   </td><td>0   </td><td>1   </td><td>4   </td><td>0   </td><td>1   </td><td>1   </td><td>0   </td><td>0   </td></tr>\n",
       "\t<tr><th scope=row>4</th><td>2000</td><td>1   </td><td>1   </td><td>0   </td><td>0   </td><td>2   </td><td>3   </td><td>0   </td><td>1   </td><td>1   </td><td>0   </td><td>0   </td></tr>\n",
       "\t<tr><th scope=row>5</th><td>2000</td><td>1   </td><td>1   </td><td>0   </td><td>0   </td><td>2   </td><td>3   </td><td>0   </td><td>1   </td><td>1   </td><td>1   </td><td>9   </td></tr>\n",
       "</tbody>\n",
       "</table>\n"
      ],
      "text/latex": [
       "\\begin{tabular}{r|llllllllllll}\n",
       "  & year & age\\_group\\_5\\_years & race\\_eth & first\\_degree\\_hx & age\\_menarche & age\\_first\\_birth & BIRADS\\_breast\\_density & current\\_hrt & menopaus & bmi\\_group & biophx & breast\\_cancer\\_history\\\\\n",
       "\\hline\n",
       "\t1 & 2000 & 1    & 1    & 0    & 0    & 0    & 1    & 0    & 1    & 3    & 0    & 0   \\\\\n",
       "\t2 & 2000 & 1    & 1    & 0    & 0    & 1    & 3    & 0    & 1    & 2    & 0    & 0   \\\\\n",
       "\t3 & 2000 & 1    & 1    & 0    & 0    & 1    & 4    & 0    & 1    & 1    & 0    & 0   \\\\\n",
       "\t3.1 & 2000 & 1    & 1    & 0    & 0    & 1    & 4    & 0    & 1    & 1    & 0    & 0   \\\\\n",
       "\t4 & 2000 & 1    & 1    & 0    & 0    & 2    & 3    & 0    & 1    & 1    & 0    & 0   \\\\\n",
       "\t5 & 2000 & 1    & 1    & 0    & 0    & 2    & 3    & 0    & 1    & 1    & 1    & 9   \\\\\n",
       "\\end{tabular}\n"
      ],
      "text/markdown": [
       "\n",
       "| <!--/--> | year | age_group_5_years | race_eth | first_degree_hx | age_menarche | age_first_birth | BIRADS_breast_density | current_hrt | menopaus | bmi_group | biophx | breast_cancer_history | \n",
       "|---|---|---|---|---|---|\n",
       "| 1 | 2000 | 1    | 1    | 0    | 0    | 0    | 1    | 0    | 1    | 3    | 0    | 0    | \n",
       "| 2 | 2000 | 1    | 1    | 0    | 0    | 1    | 3    | 0    | 1    | 2    | 0    | 0    | \n",
       "| 3 | 2000 | 1    | 1    | 0    | 0    | 1    | 4    | 0    | 1    | 1    | 0    | 0    | \n",
       "| 3.1 | 2000 | 1    | 1    | 0    | 0    | 1    | 4    | 0    | 1    | 1    | 0    | 0    | \n",
       "| 4 | 2000 | 1    | 1    | 0    | 0    | 2    | 3    | 0    | 1    | 1    | 0    | 0    | \n",
       "| 5 | 2000 | 1    | 1    | 0    | 0    | 2    | 3    | 0    | 1    | 1    | 1    | 9    | \n",
       "\n",
       "\n"
      ],
      "text/plain": [
       "    year age_group_5_years race_eth first_degree_hx age_menarche\n",
       "1   2000 1                 1        0               0           \n",
       "2   2000 1                 1        0               0           \n",
       "3   2000 1                 1        0               0           \n",
       "3.1 2000 1                 1        0               0           \n",
       "4   2000 1                 1        0               0           \n",
       "5   2000 1                 1        0               0           \n",
       "    age_first_birth BIRADS_breast_density current_hrt menopaus bmi_group biophx\n",
       "1   0               1                     0           1        3         0     \n",
       "2   1               3                     0           1        2         0     \n",
       "3   1               4                     0           1        1         0     \n",
       "3.1 1               4                     0           1        1         0     \n",
       "4   2               3                     0           1        1         0     \n",
       "5   2               3                     0           1        1         1     \n",
       "    breast_cancer_history\n",
       "1   0                    \n",
       "2   0                    \n",
       "3   0                    \n",
       "3.1 0                    \n",
       "4   0                    \n",
       "5   9                    "
      ]
     },
     "metadata": {},
     "output_type": "display_data"
    },
    {
     "data": {
      "text/html": [
       "<table>\n",
       "<thead><tr><th></th><th scope=col>year</th><th scope=col>age_group_5_years</th><th scope=col>race_eth</th><th scope=col>first_degree_hx</th><th scope=col>age_menarche</th><th scope=col>age_first_birth</th><th scope=col>BIRADS_breast_density</th><th scope=col>current_hrt</th><th scope=col>menopaus</th><th scope=col>bmi_group</th><th scope=col>biophx</th><th scope=col>breast_cancer_history</th></tr></thead>\n",
       "<tbody>\n",
       "\t<tr><th scope=row>1144563.4</th><td>2009</td><td>13  </td><td>9   </td><td>9   </td><td>9   </td><td>9   </td><td>9   </td><td>9   </td><td>2   </td><td>9   </td><td>9   </td><td>0   </td></tr>\n",
       "\t<tr><th scope=row>1144563.5</th><td>2009</td><td>13  </td><td>9   </td><td>9   </td><td>9   </td><td>9   </td><td>9   </td><td>9   </td><td>2   </td><td>9   </td><td>9   </td><td>0   </td></tr>\n",
       "\t<tr><th scope=row>1144563.6</th><td>2009</td><td>13  </td><td>9   </td><td>9   </td><td>9   </td><td>9   </td><td>9   </td><td>9   </td><td>2   </td><td>9   </td><td>9   </td><td>0   </td></tr>\n",
       "\t<tr><th scope=row>1144564</th><td>2009</td><td>13  </td><td>9   </td><td>9   </td><td>9   </td><td>9   </td><td>9   </td><td>9   </td><td>2   </td><td>9   </td><td>9   </td><td>9   </td></tr>\n",
       "\t<tr><th scope=row>1144564.1</th><td>2009</td><td>13  </td><td>9   </td><td>9   </td><td>9   </td><td>9   </td><td>9   </td><td>9   </td><td>2   </td><td>9   </td><td>9   </td><td>9   </td></tr>\n",
       "\t<tr><th scope=row>1144564.2</th><td>2009</td><td>13  </td><td>9   </td><td>9   </td><td>9   </td><td>9   </td><td>9   </td><td>9   </td><td>2   </td><td>9   </td><td>9   </td><td>9   </td></tr>\n",
       "</tbody>\n",
       "</table>\n"
      ],
      "text/latex": [
       "\\begin{tabular}{r|llllllllllll}\n",
       "  & year & age\\_group\\_5\\_years & race\\_eth & first\\_degree\\_hx & age\\_menarche & age\\_first\\_birth & BIRADS\\_breast\\_density & current\\_hrt & menopaus & bmi\\_group & biophx & breast\\_cancer\\_history\\\\\n",
       "\\hline\n",
       "\t1144563.4 & 2009 & 13   & 9    & 9    & 9    & 9    & 9    & 9    & 2    & 9    & 9    & 0   \\\\\n",
       "\t1144563.5 & 2009 & 13   & 9    & 9    & 9    & 9    & 9    & 9    & 2    & 9    & 9    & 0   \\\\\n",
       "\t1144563.6 & 2009 & 13   & 9    & 9    & 9    & 9    & 9    & 9    & 2    & 9    & 9    & 0   \\\\\n",
       "\t1144564 & 2009 & 13   & 9    & 9    & 9    & 9    & 9    & 9    & 2    & 9    & 9    & 9   \\\\\n",
       "\t1144564.1 & 2009 & 13   & 9    & 9    & 9    & 9    & 9    & 9    & 2    & 9    & 9    & 9   \\\\\n",
       "\t1144564.2 & 2009 & 13   & 9    & 9    & 9    & 9    & 9    & 9    & 2    & 9    & 9    & 9   \\\\\n",
       "\\end{tabular}\n"
      ],
      "text/markdown": [
       "\n",
       "| <!--/--> | year | age_group_5_years | race_eth | first_degree_hx | age_menarche | age_first_birth | BIRADS_breast_density | current_hrt | menopaus | bmi_group | biophx | breast_cancer_history | \n",
       "|---|---|---|---|---|---|\n",
       "| 1144563.4 | 2009 | 13   | 9    | 9    | 9    | 9    | 9    | 9    | 2    | 9    | 9    | 0    | \n",
       "| 1144563.5 | 2009 | 13   | 9    | 9    | 9    | 9    | 9    | 9    | 2    | 9    | 9    | 0    | \n",
       "| 1144563.6 | 2009 | 13   | 9    | 9    | 9    | 9    | 9    | 9    | 2    | 9    | 9    | 0    | \n",
       "| 1144564 | 2009 | 13   | 9    | 9    | 9    | 9    | 9    | 9    | 2    | 9    | 9    | 9    | \n",
       "| 1144564.1 | 2009 | 13   | 9    | 9    | 9    | 9    | 9    | 9    | 2    | 9    | 9    | 9    | \n",
       "| 1144564.2 | 2009 | 13   | 9    | 9    | 9    | 9    | 9    | 9    | 2    | 9    | 9    | 9    | \n",
       "\n",
       "\n"
      ],
      "text/plain": [
       "          year age_group_5_years race_eth first_degree_hx age_menarche\n",
       "1144563.4 2009 13                9        9               9           \n",
       "1144563.5 2009 13                9        9               9           \n",
       "1144563.6 2009 13                9        9               9           \n",
       "1144564   2009 13                9        9               9           \n",
       "1144564.1 2009 13                9        9               9           \n",
       "1144564.2 2009 13                9        9               9           \n",
       "          age_first_birth BIRADS_breast_density current_hrt menopaus bmi_group\n",
       "1144563.4 9               9                     9           2        9        \n",
       "1144563.5 9               9                     9           2        9        \n",
       "1144563.6 9               9                     9           2        9        \n",
       "1144564   9               9                     9           2        9        \n",
       "1144564.1 9               9                     9           2        9        \n",
       "1144564.2 9               9                     9           2        9        \n",
       "          biophx breast_cancer_history\n",
       "1144563.4 9      0                    \n",
       "1144563.5 9      0                    \n",
       "1144563.6 9      0                    \n",
       "1144564   9      9                    \n",
       "1144564.1 9      9                    \n",
       "1144564.2 9      9                    "
      ]
     },
     "metadata": {},
     "output_type": "display_data"
    }
   ],
   "source": [
    "head(bCancer)\n",
    "tail(bCancer)"
   ]
  },
  {
   "cell_type": "markdown",
   "metadata": {},
   "source": [
    "El número de filas tras replicar las filas indicadas por la columna *count* es de 6318638. Como este número es muy alto para la máquina virtual que tenemos vamos a realizar una muestreo aleatorio simple y nos quedaremos con 5000 filas. El resto se descartan.\n",
    "\n",
    "*Nota:*Para el muestreo usad la semilla 12345, de esta forma todos tendresmos exactamente los mismos resultados."
   ]
  },
  {
   "cell_type": "code",
   "execution_count": 4,
   "metadata": {},
   "outputs": [
    {
     "name": "stdout",
     "output_type": "stream",
     "text": [
      "[1] \"done\"\n"
     ]
    }
   ],
   "source": [
    "#Definimos una semilla común para todos:\n",
    "set.seed(12345)\n",
    "#Utiliza muestreo aleatorio simple para quedarnos con 5000 muestras:\n",
    "n <- 5000\n",
    "indices <- sample(1:nrow(bCancer),n,replace=F)\n",
    "bCancer <- bCancer[indices,]\n",
    "print(\"done\")"
   ]
  },
  {
   "cell_type": "markdown",
   "metadata": {},
   "source": [
    "Formatear el dataframe:\n",
    "* Cambiamos los *Desconocido* por NA en las columnas \"race_eth\", \"first_degree_hx\", \"age_menarche\", \"age_first_birth\", \"BIRADS_breast_density\", \"current_hrt\", \"menopaus\", \"bmi_group\", \"biophx\", \"breast_cancer_history\"\n",
    "* Convertimos a factores las columnas que vamos a necesitar"
   ]
  },
  {
   "cell_type": "code",
   "execution_count": 5,
   "metadata": {},
   "outputs": [
    {
     "name": "stdout",
     "output_type": "stream",
     "text": [
      "[1] \"Column year has 0 NAs. Unique values are: 2000 2001 2002 2003 2004 2005 2006 2007 2008 2009\"\n",
      "[1] \"Column age_group_5_years has 0 NAs. Unique values are: 1 10 11 12 13 2 3 4 5 6 7 8 9\"\n",
      "[1] \"Column race_eth has 609 NAs. Unique values are: 1 2 3 4 5 6\"\n",
      "[1] \"Column first_degree_hx has 489 NAs. Unique values are: 0 1\"\n",
      "[1] \"Column age_menarche has 3311 NAs. Unique values are: 0 1 2\"\n",
      "[1] \"Column age_first_birth has 2790 NAs. Unique values are: 0 1 2 3 4\"\n",
      "[1] \"Column BIRADS_breast_density has 1331 NAs. Unique values are: 1 2 3 4\"\n",
      "[1] \"Column current_hrt has 961 NAs. Unique values are: 0 1\"\n",
      "[1] \"Column menopaus has 765 NAs. Unique values are: 1 2 3\"\n",
      "[1] \"Column bmi_group has 2641 NAs. Unique values are: 1 2 3 4\"\n",
      "[1] \"Column biophx has 480 NAs. Unique values are: 0 1\"\n",
      "[1] \"Column breast_cancer_history has 1020 NAs. Unique values are: 0 1\"\n",
      "'data.frame':\t5000 obs. of  12 variables:\n",
      " $ year                 : Factor w/ 10 levels \"2000\",\"2001\",..: 7 9 8 9 5 2 3 5 7 10 ...\n",
      " $ age_group_5_years    : Factor w/ 13 levels \"1\",\"2\",\"3\",\"4\",..: 8 7 5 8 3 6 10 6 9 10 ...\n",
      " $ race_eth             : Factor w/ 6 levels \"1\",\"2\",\"3\",\"4\",..: NA 2 1 1 1 5 1 NA NA 1 ...\n",
      " $ first_degree_hx      : Factor w/ 2 levels \"0\",\"1\": NA 1 1 2 1 1 1 NA 1 NA ...\n",
      " $ age_menarche         : Factor w/ 3 levels \"0\",\"1\",\"2\": NA NA NA 2 NA NA NA NA NA 3 ...\n",
      " $ age_first_birth      : Factor w/ 5 levels \"0\",\"1\",\"2\",\"3\",..: NA NA NA 2 NA NA NA NA 2 NA ...\n",
      " $ BIRADS_breast_density: Factor w/ 4 levels \"1\",\"2\",\"3\",\"4\": 2 2 2 2 3 1 NA NA 1 2 ...\n",
      " $ current_hrt          : Factor w/ 2 levels \"0\",\"1\": NA 1 1 1 1 2 1 NA 1 1 ...\n",
      " $ menopaus             : Factor w/ 3 levels \"1\",\"2\",\"3\": 2 2 1 2 1 2 2 NA 2 2 ...\n",
      " $ bmi_group            : Factor w/ 4 levels \"1\",\"2\",\"3\",\"4\": NA NA NA 2 2 3 2 NA NA 2 ...\n",
      " $ biophx               : Factor w/ 2 levels \"0\",\"1\": 1 1 1 1 1 1 1 NA 1 1 ...\n",
      " $ breast_cancer_history: Factor w/ 2 levels \"0\",\"1\": 1 1 1 1 1 1 1 NA 1 1 ...\n"
     ]
    }
   ],
   "source": [
    "factorColumns <- c(\"year\",\"age_group_5_years\",\"race_eth\", \"first_degree_hx\", \"age_menarche\", \"age_first_birth\", \n",
    "                  \"BIRADS_breast_density\", \"current_hrt\", \"menopaus\", \"bmi_group\", \"biophx\", \"breast_cancer_history\")\n",
    "bCancer[factorColumns] <- lapply(bCancer[factorColumns], factor)\n",
    "for (column in factorColumns){\n",
    "    if (column != \"age_group_5_years\"){\n",
    "    levels(bCancer[,paste(column)])[levels(bCancer[,paste(column)])==\"9\"] <- NA\n",
    "    }\n",
    "    print(paste(c(\"Column\", column, \"has\", sum(is.na(as.character(bCancer[,paste(column)]))), \"NAs.\",\n",
    "                  \"Unique values are:\",sort(as.character(unique(bCancer[,paste(column)])))),collapse=\" \"))\n",
    "}\n",
    "str(bCancer)\n",
    "levels(bCancer$first_degree_hx)[levels(bCancer$first_degree_hx) == \" \"] <- NA\n"
   ]
  },
  {
   "cell_type": "markdown",
   "metadata": {},
   "source": [
    "#### Edad y Antecedentes familiares"
   ]
  },
  {
   "cell_type": "markdown",
   "metadata": {},
   "source": [
    "Creamos una nueva columna con la edad estimada para un posterior análisis"
   ]
  },
  {
   "cell_type": "markdown",
   "metadata": {},
   "source": [
    "Representa en un diagrama de cajas cómo varía la **edad de aparición del cancer** en función de si ha habido **antecedentes familiares** o no.\n",
    "Ayuda:\n",
    "- Hay que crear una nueva columna con la edad estimada de cada rango."
   ]
  },
  {
   "cell_type": "code",
   "execution_count": 6,
   "metadata": {},
   "outputs": [
    {
     "data": {
      "text/html": [
       "<ol class=list-inline>\n",
       "\t<li>'1'</li>\n",
       "\t<li>'2'</li>\n",
       "\t<li>'3'</li>\n",
       "\t<li>'4'</li>\n",
       "\t<li>'5'</li>\n",
       "\t<li>'6'</li>\n",
       "\t<li>'7'</li>\n",
       "\t<li>'8'</li>\n",
       "\t<li>'9'</li>\n",
       "\t<li>'10'</li>\n",
       "\t<li>'11'</li>\n",
       "\t<li>'12'</li>\n",
       "\t<li>'13'</li>\n",
       "</ol>\n"
      ],
      "text/latex": [
       "\\begin{enumerate*}\n",
       "\\item '1'\n",
       "\\item '2'\n",
       "\\item '3'\n",
       "\\item '4'\n",
       "\\item '5'\n",
       "\\item '6'\n",
       "\\item '7'\n",
       "\\item '8'\n",
       "\\item '9'\n",
       "\\item '10'\n",
       "\\item '11'\n",
       "\\item '12'\n",
       "\\item '13'\n",
       "\\end{enumerate*}\n"
      ],
      "text/markdown": [
       "1. '1'\n",
       "2. '2'\n",
       "3. '3'\n",
       "4. '4'\n",
       "5. '5'\n",
       "6. '6'\n",
       "7. '7'\n",
       "8. '8'\n",
       "9. '9'\n",
       "10. '10'\n",
       "11. '11'\n",
       "12. '12'\n",
       "13. '13'\n",
       "\n",
       "\n"
      ],
      "text/plain": [
       " [1] \"1\"  \"2\"  \"3\"  \"4\"  \"5\"  \"6\"  \"7\"  \"8\"  \"9\"  \"10\" \"11\" \"12\" \"13\""
      ]
     },
     "metadata": {},
     "output_type": "display_data"
    },
    {
     "data": {
      "text/html": [
       "<ol class=list-inline>\n",
       "\t<li>'24'</li>\n",
       "\t<li>'32'</li>\n",
       "\t<li>'37'</li>\n",
       "\t<li>'42'</li>\n",
       "\t<li>'47'</li>\n",
       "\t<li>'52'</li>\n",
       "\t<li>'57'</li>\n",
       "\t<li>'62'</li>\n",
       "\t<li>'67'</li>\n",
       "\t<li>'72'</li>\n",
       "\t<li>'77'</li>\n",
       "\t<li>'82'</li>\n",
       "\t<li>'85'</li>\n",
       "</ol>\n"
      ],
      "text/latex": [
       "\\begin{enumerate*}\n",
       "\\item '24'\n",
       "\\item '32'\n",
       "\\item '37'\n",
       "\\item '42'\n",
       "\\item '47'\n",
       "\\item '52'\n",
       "\\item '57'\n",
       "\\item '62'\n",
       "\\item '67'\n",
       "\\item '72'\n",
       "\\item '77'\n",
       "\\item '82'\n",
       "\\item '85'\n",
       "\\end{enumerate*}\n"
      ],
      "text/markdown": [
       "1. '24'\n",
       "2. '32'\n",
       "3. '37'\n",
       "4. '42'\n",
       "5. '47'\n",
       "6. '52'\n",
       "7. '57'\n",
       "8. '62'\n",
       "9. '67'\n",
       "10. '72'\n",
       "11. '77'\n",
       "12. '82'\n",
       "13. '85'\n",
       "\n",
       "\n"
      ],
      "text/plain": [
       " [1] \"24\" \"32\" \"37\" \"42\" \"47\" \"52\" \"57\" \"62\" \"67\" \"72\" \"77\" \"82\" \"85\""
      ]
     },
     "metadata": {},
     "output_type": "display_data"
    }
   ],
   "source": [
    "ages<-c(24,32,37,42,47,52,57,62,67,72,77,82,85)\n",
    "bCancer$estimatedAge <- bCancer$age_group_5_years\n",
    "levels(bCancer$estimatedAge)\n",
    "levels(bCancer$estimatedAge)=ages\n",
    "levels(bCancer$estimatedAge)\n",
    "bCancer$estimatedAge<-as.numeric(as.character(bCancer$estimatedAge))\n"
   ]
  },
  {
   "cell_type": "code",
   "execution_count": 7,
   "metadata": {},
   "outputs": [
    {
     "data": {},
     "metadata": {},
     "output_type": "display_data"
    },
    {
     "data": {
      "image/png": "[encoded data removed]",
      "text/plain": [
       "plot without title"
      ]
     },
     "metadata": {},
     "output_type": "display_data"
    }
   ],
   "source": [
    "options(repr.plot.height=4,repr.plot.width=6)\n",
    "library(ggplot2)\n",
    "ggplot(bCancer,aes(y=estimatedAge,x=first_degree_hx,color=first_degree_hx))+geom_boxplot()"
   ]
  },
  {
   "cell_type": "markdown",
   "metadata": {},
   "source": [
    "¿Existe una diferencia estadística significativa entre la edad de aparición del cancer y si hay antecedentes familiares? ¿Que test usarías para comprobarlo?"
   ]
  },
  {
   "cell_type": "code",
   "execution_count": 18,
   "metadata": {},
   "outputs": [
    {
     "name": "stdout",
     "output_type": "stream",
     "text": [
      "[1] \"first_degree_hx: 0 pvalue: 2.81514660265516e-31\"\n",
      "[1] \"first_degree_hx: 1 pvalue: 2.51736953215571e-11\"\n",
      "[1] \"Se rechaza Ho: La edad estimada sigue una distribución normal para cada grupo\"\n",
      "[1] \"Hay que usar el test Wilcoxon-Mann-Whitney para poblaciones que no siguen una distribución normal. Se rechaza H0 con un pvalor: 2.33852483042442e-06 . Las distribuiciones son diferentes y por lo tanto las medias son diferentes.\"\n",
      "[1] \"En conclusión existe diferencia estadísticamente significativa entre la edad de aparición del cáncer  en función de si hay antecedentes familiares\"\n"
     ]
    },
    {
     "data": {
      "text/plain": [
       "\n",
       "\tWilcoxon rank sum test with continuity correction\n",
       "\n",
       "data:  estimatedAge by first_degree_hx\n",
       "W = 1239200, p-value = 2.339e-06\n",
       "alternative hypothesis: true location shift is not equal to 0\n"
      ]
     },
     "metadata": {},
     "output_type": "display_data"
    }
   ],
   "source": [
    "#analizamos si los grupos siguen una distribución normal\n",
    "for (v in levels(bCancer$first_degree_hx)){\n",
    "    print(paste(\"first_degree_hx:\",v,\"pvalue:\",shapiro.test(bCancer$estimatedAge[bCancer$first_degree_hx==v])$p.value))\n",
    "}\n",
    "print(paste(\"Se rechaza Ho: La edad estimada sigue una distribución normal para cada grupo\"))\n",
    "\n",
    "#Si la distribución no es normal se usa el test Wilcoxon-Mann-Whitney \n",
    "wc<-wilcox.test(estimatedAge ~ first_degree_hx, data=bCancer)\n",
    "#str(wc)\n",
    "#t.test(bCancer$estimatedAge[bCancer$first_degree_hx==\"1\"],bCancer$estimatedAge[bCancer$first_degree_hx==\"0\"])\n",
    "print(paste(\"Hay que usar el test Wilcoxon-Mann-Whitney para poblaciones que no siguen una distribución normal.\",\n",
    "\"Se rechaza H0 con un pvalor:\",wc$p.value,\". Las distribuiciones son diferentes y por lo tanto las medias son diferentes.\"))\n",
    "print(paste(\"En conclusión existe diferencia estadísticamente significativa entre la edad de aparición del cáncer \",\n",
    "      \"en función de si hay antecedentes familiares\"))\n",
    "wc"
   ]
  },
  {
   "cell_type": "markdown",
   "metadata": {},
   "source": [
    "Dibuja la curva de densidad de probabilidad de cómo varía la edad de aparición del cancer en función de si ha habido antecedentes familiares o no."
   ]
  },
  {
   "cell_type": "code",
   "execution_count": 9,
   "metadata": {},
   "outputs": [
    {
     "data": {},
     "metadata": {},
     "output_type": "display_data"
    },
    {
     "data": {
      "image/png": "[encoded data removed]",
      "text/plain": [
       "plot without title"
      ]
     },
     "metadata": {},
     "output_type": "display_data"
    }
   ],
   "source": [
    "ggplot(data=bCancer, aes(x=estimatedAge,color=first_degree_hx))+geom_density()"
   ]
  },
  {
   "cell_type": "markdown",
   "metadata": {},
   "source": [
    "#### Edad y BIRADS"
   ]
  },
  {
   "cell_type": "markdown",
   "metadata": {},
   "source": [
    "Representa en un diagrama de cajas cómo varía la edad de aparición del cancer en función de la densidad del cancder (BIRADS)."
   ]
  },
  {
   "cell_type": "code",
   "execution_count": 10,
   "metadata": {},
   "outputs": [
    {
     "data": {},
     "metadata": {},
     "output_type": "display_data"
    },
    {
     "data": {
      "image/png": "[encoded data removed]",
      "text/plain": [
       "plot without title"
      ]
     },
     "metadata": {},
     "output_type": "display_data"
    }
   ],
   "source": [
    "ggplot(bCancer,aes(y=estimatedAge,x=BIRADS_breast_density,color=BIRADS_breast_density))+geom_boxplot()"
   ]
  },
  {
   "cell_type": "markdown",
   "metadata": {},
   "source": [
    "¿Existe una evidencia estadística significativa para decir que la edad en la que se detecta el cancer depende de la densidad del cancer (BIRADS)?\n",
    "\n",
    "¿Que test habría que aplicar?"
   ]
  },
  {
   "cell_type": "code",
   "execution_count": 27,
   "metadata": {},
   "outputs": [
    {
     "name": "stdout",
     "output_type": "stream",
     "text": [
      "[1] \"BIRADS_breast_density: 1 pvalue: 7.96258603243596e-05\"\n",
      "[1] \"BIRADS_breast_density: 2 pvalue: 2.01983358371917e-20\"\n",
      "[1] \"BIRADS_breast_density: 3 pvalue: 1.3039137421842e-20\"\n",
      "[1] \"BIRADS_breast_density: 4 pvalue: 3.33994059507337e-09\"\n",
      "Se rechaza H0: los grupos siguen una distribución normal.\n",
      "Hay que usar el test de Kruskal-Wallis para comprobar si las medias de los grupos son iguales.  Se usa cuando los grupos no siguen una normal.\n",
      "Se rechaza H0: las medias son iguales con pvalor 1.218342e-33 . Por lo tanto, la edad en la que se detecta el cáncer depende de la densidad del cáncer.\n",
      "The default option with NAs is: na.omit"
     ]
    }
   ],
   "source": [
    "#test de normalidad\n",
    "for (v in levels(bCancer$BIRADS_breast_density)){\n",
    "    print(paste(\"BIRADS_breast_density:\",v,\"pvalue:\",\n",
    "                shapiro.test(bCancer$estimatedAge[bCancer$BIRADS_breast_density==v])$p.value))\n",
    "}\n",
    "cat(\"Se rechaza H0: los grupos siguen una distribución normal.\\n\")\n",
    "cat(\"Hay que usar el test de Kruskal-Wallis para comprobar si las medias de los grupos son iguales.\",\n",
    "    \" Se usa cuando los grupos no siguen una normal.\")\n",
    "#Test de Kruskal-Wallis para identificar si los grupos tienen la misma dist. \n",
    "kt<-kruskal.test( estimatedAge ~ BIRADS_breast_density, data=bCancer)\n",
    "cat(\"\\nSe rechaza H0: las medias son iguales con pvalor\", kt$p.value,\". Por lo tanto,\",\n",
    "    \"la edad en la que se detecta el cáncer depende de la densidad del cáncer.\")\n",
    "cat(\"\\nThe default option with NAs is:\",getOption(\"na.action\"))"
   ]
  },
  {
   "cell_type": "markdown",
   "metadata": {},
   "source": [
    "#### Tablas de contingencia: BIRADS"
   ]
  },
  {
   "cell_type": "markdown",
   "metadata": {},
   "source": [
    "¿Todos los  tipos de cancer (BIRADS) son igual de probables? ¿Con que test lo comprobarías?"
   ]
  },
  {
   "cell_type": "code",
   "execution_count": 28,
   "metadata": {},
   "outputs": [
    {
     "data": {
      "text/plain": [
       "  Tukey multiple comparisons of means\n",
       "    95% family-wise confidence level\n",
       "\n",
       "Fit: aov(formula = estimatedAge ~ BIRADS_breast_density, data = bCancer)\n",
       "\n",
       "$BIRADS_breast_density\n",
       "         diff        lwr        upr     p adj\n",
       "2-1 -1.660806  -3.590326  0.2687136 0.1200455\n",
       "3-1 -5.068672  -7.019612 -3.1177321 0.0000000\n",
       "4-1 -9.468447 -12.080906 -6.8559886 0.0000000\n",
       "3-2 -3.407866  -4.507993 -2.3077383 0.0000000\n",
       "4-2 -7.807641  -9.864108 -5.7511745 0.0000000\n",
       "4-3 -4.399775  -6.476353 -2.3231978 0.0000003\n"
      ]
     },
     "metadata": {},
     "output_type": "display_data"
    },
    {
     "name": "stdout",
     "output_type": "stream",
     "text": [
      "Los grupos 1 y 2 tienen alta probabilidad de tener la misma media.  Los demás grupos tienen media diferente entre si."
     ]
    }
   ],
   "source": [
    "#Test de Tukey para encontrar las medias que son significativamente diferentes de cada uno de los grupos. \n",
    "TukeyHSD(aov( estimatedAge ~ BIRADS_breast_density, data=bCancer))\n",
    "cat(\"Los grupos 1 y 2 tienen alta probabilidad de tener la misma media.\",\n",
    "    \" Los demás grupos tienen media diferente entre si.\")"
   ]
  },
  {
   "cell_type": "markdown",
   "metadata": {},
   "source": [
    "¿Cual es el tipo de cancer (BIRADS) más común? ¿Con qué proporción?"
   ]
  },
  {
   "cell_type": "code",
   "execution_count": 13,
   "metadata": {},
   "outputs": [
    {
     "data": {
      "text/plain": [
       "\n",
       "         1          2          3          4 \n",
       "0.08094849 0.45380213 0.39547561 0.06977378 "
      ]
     },
     "metadata": {},
     "output_type": "display_data"
    },
    {
     "name": "stdout",
     "output_type": "stream",
     "text": [
      "[1] \"El tipo de cáncer más común es 2: Scattered fibroglandular con una proporción del 45.38%.\"\n"
     ]
    }
   ],
   "source": [
    "totalCases<-nrow(bCancer[is.na(bCancer$BIRADS_breast_density)==FALSE,])\n",
    "table(bCancer[is.na(bCancer$BIRADS_breast_density)==FALSE,]$BIRADS_breast_density)/totalCases\n",
    "print(paste(\"El tipo de cáncer más común es 2: Scattered fibroglandular con una proporción del 45.38%.\"))"
   ]
  },
  {
   "cell_type": "markdown",
   "metadata": {},
   "source": [
    "¿Depende el tipo de cancer (BIRADS) de si ha habido o no antecedentes familiares?"
   ]
  },
  {
   "cell_type": "code",
   "execution_count": 14,
   "metadata": {},
   "outputs": [
    {
     "data": {
      "text/plain": [
       "                     first_degree_hx\n",
       "BIRADS_breast_density    0    1\n",
       "                    1  223   56\n",
       "                    2 1324  248\n",
       "                    3 1135  229\n",
       "                    4  190   45"
      ]
     },
     "metadata": {},
     "output_type": "display_data"
    },
    {
     "data": {
      "text/plain": [
       "\n",
       "\tPearson's Chi-squared test\n",
       "\n",
       "data:  M\n",
       "X-squared = 4.2475, df = 3, p-value = 0.236\n"
      ]
     },
     "metadata": {},
     "output_type": "display_data"
    },
    {
     "data": {
      "text/plain": [
       "\n",
       "\tFisher's Exact Test for Count Data\n",
       "\n",
       "data:  M\n",
       "p-value = 0.2273\n",
       "alternative hypothesis: two.sided\n"
      ]
     },
     "metadata": {},
     "output_type": "display_data"
    },
    {
     "name": "stdout",
     "output_type": "stream",
     "text": [
      "No se rechaza H0 con un pvalor de de Fisher de 0.2273, por lo tanto el tipo de cáncer (BIRADS) no depende de si han habido antecedentes familiares."
     ]
    }
   ],
   "source": [
    "M <- table(na.omit(data.frame(BIRADS_breast_density=as.numeric(as.character(bCancer$BIRADS_breast_density)),\n",
    "                        first_degree_hx=as.numeric(as.character(bCancer$first_degree_hx)))))\n",
    "M\n",
    "chisq.test(M)\n",
    "fisher.test(M)\n",
    "cat(\"No se rechaza H0 con un pvalor de de Fisher de 0.2273, por lo tanto el tipo de cáncer (BIRADS) no depende de si\",\n",
    "    \"han habido antecedentes familiares.\")"
   ]
  },
  {
   "cell_type": "markdown",
   "metadata": {},
   "source": [
    "¿Depende el tipo de cancer BIRADS del grupo étnico?"
   ]
  },
  {
   "cell_type": "code",
   "execution_count": 15,
   "metadata": {
    "scrolled": true
   },
   "outputs": [
    {
     "data": {
      "text/plain": [
       "                     race_eth\n",
       "BIRADS_breast_density    1    2    3    4    5    6\n",
       "                    1  204   23   11    1   26    2\n",
       "                    2 1208  100   51    7   98   19\n",
       "                    3 1021   92   85    6   94   15\n",
       "                    4  179   11   29    3   11    3"
      ]
     },
     "metadata": {},
     "output_type": "display_data"
    },
    {
     "name": "stderr",
     "output_type": "stream",
     "text": [
      "Warning message in chisq.test(M):\n",
      "“Chi-squared approximation may be incorrect”"
     ]
    },
    {
     "data": {
      "text/plain": [
       "\n",
       "\tPearson's Chi-squared test\n",
       "\n",
       "data:  M\n",
       "X-squared = 48.684, df = 15, p-value = 1.971e-05\n"
      ]
     },
     "metadata": {},
     "output_type": "display_data"
    },
    {
     "data": {
      "text/plain": [
       "\n",
       "\tFisher's Exact Test for Count Data with simulated p-value (based on\n",
       "\t1e+06 replicates)\n",
       "\n",
       "data:  M\n",
       "p-value = 6.6e-05\n",
       "alternative hypothesis: two.sided\n"
      ]
     },
     "metadata": {},
     "output_type": "display_data"
    },
    {
     "name": "stdout",
     "output_type": "stream",
     "text": [
      "Se rechaza H0 con un pvalor de 1.971e-05 en el test Chi cuadrado (alternativamente 5.8e-05 en el test de Fisher),  por lo tanto el tipo de cáncer (BIRADS) depende del grupo étnico."
     ]
    }
   ],
   "source": [
    "M <- table(na.omit(data.frame(BIRADS_breast_density=as.numeric(as.character(bCancer$BIRADS_breast_density)),\n",
    "                        race_eth=as.numeric(as.character(bCancer$race_eth)))))\n",
    "M\n",
    "chisq.test(M)\n",
    "fisher.test(M, simulate.p.value = TRUE,B = 1e6) #simulate pvalue para matrices de dimensión diferente de 2x2\n",
    "cat(\"Se rechaza H0 con un pvalor de 1.971e-05 en el test Chi cuadrado (alternativamente 5.8e-05 en el test de Fisher),\",\n",
    "    \" por lo tanto el tipo de cáncer (BIRADS) depende del grupo étnico.\")"
   ]
  },
  {
   "cell_type": "markdown",
   "metadata": {},
   "source": [
    "¿Cual es la probabilidad (con su margen de error del 95%) de que un *Native American* tenga un cancer de tipo *Almost entirely fat*?\n",
    "\n",
    "*Aviso*: Cuidado con los NA"
   ]
  },
  {
   "cell_type": "code",
   "execution_count": 32,
   "metadata": {},
   "outputs": [
    {
     "data": {
      "text/plain": [
       "\n",
       "1 2 3 4 \n",
       "1 7 6 3 "
      ]
     },
     "metadata": {},
     "output_type": "display_data"
    },
    {
     "data": {
      "text/html": [
       "'La probabilidad de que un Native American tenga un cancer de tipo Almost entirely fat es:0.0588 con un intervalo de confianza: [0.0015,0.2869]'"
      ],
      "text/latex": [
       "'La probabilidad de que un Native American tenga un cancer de tipo Almost entirely fat es:0.0588 con un intervalo de confianza: {[}0.0015,0.2869{]}'"
      ],
      "text/markdown": [
       "'La probabilidad de que un Native American tenga un cancer de tipo Almost entirely fat es:0.0588 con un intervalo de confianza: [0.0015,0.2869]'"
      ],
      "text/plain": [
       "[1] \"La probabilidad de que un Native American tenga un cancer de tipo Almost entirely fat es:0.0588 con un intervalo de confianza: [0.0015,0.2869]\""
      ]
     },
     "metadata": {},
     "output_type": "display_data"
    },
    {
     "data": {
      "text/plain": [
       "\n",
       "         1          2          3          4 \n",
       "0.05882353 0.41176471 0.35294118 0.17647059 "
      ]
     },
     "metadata": {},
     "output_type": "display_data"
    },
    {
     "data": {
      "text/plain": [
       "\n",
       "\tExact binomial test\n",
       "\n",
       "data:  nativeAmerican[1] and sum(nativeAmerican)\n",
       "number of successes = 1, number of trials = 17, p-value = 0.0002747\n",
       "alternative hypothesis: true probability of success is not equal to 0.5\n",
       "95 percent confidence interval:\n",
       " 0.001488174 0.286889397\n",
       "sample estimates:\n",
       "probability of success \n",
       "            0.05882353 \n"
      ]
     },
     "metadata": {},
     "output_type": "display_data"
    }
   ],
   "source": [
    "nativeAmerican <- table(na.omit(bCancer[which(bCancer$race_eth==4 ),]$BIRADS_breast_density))\n",
    "nativeAmerican\n",
    "\n",
    "r1<-round(binom.test(nativeAmerican[1],sum(nativeAmerican))$conf.int,4)\n",
    "\n",
    "paste0(\"La probabilidad de que un Native American tenga un cancer de tipo Almost entirely fat es:\",\n",
    "       round(nativeAmerican[1]/sum(nativeAmerican),4),\n",
    "       \" con un intervalo de confianza: [\",r1[1],\",\",r1[2],\"]\")\n",
    "\n",
    "prop.table(nativeAmerican)\n",
    "binom.test(nativeAmerican[1],sum(nativeAmerican))"
   ]
  }
 ],
 "metadata": {
  "kernelspec": {
   "display_name": "R",
   "language": "R",
   "name": "ir"
  },
  "language_info": {
   "codemirror_mode": "r",
   "file_extension": ".r",
   "mimetype": "text/x-r-source",
   "name": "R",
   "pygments_lexer": "r",
   "version": "3.5.0"
  }
 },
 "nbformat": 4,
 "nbformat_minor": 2
}
